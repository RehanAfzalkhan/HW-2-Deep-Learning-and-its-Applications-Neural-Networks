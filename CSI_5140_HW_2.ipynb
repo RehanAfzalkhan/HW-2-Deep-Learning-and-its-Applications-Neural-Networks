{
  "nbformat": 4,
  "nbformat_minor": 0,
  "metadata": {
    "colab": {
      "provenance": [],
      "gpuType": "V5E1",
      "authorship_tag": "ABX9TyMXUD2ii/8/tqW1RHyI2r6a",
      "include_colab_link": true
    },
    "kernelspec": {
      "name": "python3",
      "display_name": "Python 3"
    },
    "language_info": {
      "name": "python"
    },
    "accelerator": "TPU"
  },
  "cells": [
    {
      "cell_type": "markdown",
      "metadata": {
        "id": "view-in-github",
        "colab_type": "text"
      },
      "source": [
        "<a href=\"https://colab.research.google.com/github/RehanAfzalkhan/HW-2-Deep-Learning-and-its-Applications-Neural-Networks/blob/main/CSI_5140_HW_2.ipynb\" target=\"_parent\"><img src=\"https://colab.research.google.com/assets/colab-badge.svg\" alt=\"Open In Colab\"/></a>"
      ]
    },
    {
      "cell_type": "markdown",
      "source": [
        "0) Setup & Imports"
      ],
      "metadata": {
        "id": "T1Xxy_pNu6aY"
      }
    },
    {
      "cell_type": "code",
      "execution_count": 4,
      "metadata": {
        "id": "SvUPoYRWu0oQ",
        "colab": {
          "base_uri": "https://localhost:8080/",
          "height": 383
        },
        "outputId": "74ae6b3f-fbb1-48fe-cbfd-5757609a0e55"
      },
      "outputs": [
        {
          "output_type": "error",
          "ename": "ModuleNotFoundError",
          "evalue": "No module named 'tensorflow'",
          "traceback": [
            "\u001b[0;31m---------------------------------------------------------------------------\u001b[0m",
            "\u001b[0;31mModuleNotFoundError\u001b[0m                       Traceback (most recent call last)",
            "\u001b[0;32m/tmp/ipython-input-3910637700.py\u001b[0m in \u001b[0;36m<cell line: 0>\u001b[0;34m()\u001b[0m\n\u001b[1;32m      6\u001b[0m \u001b[0;34m\u001b[0m\u001b[0m\n\u001b[1;32m      7\u001b[0m \u001b[0;31m# For MNIST\u001b[0m\u001b[0;34m\u001b[0m\u001b[0;34m\u001b[0m\u001b[0m\n\u001b[0;32m----> 8\u001b[0;31m \u001b[0;32mfrom\u001b[0m \u001b[0mtensorflow\u001b[0m\u001b[0;34m.\u001b[0m\u001b[0mkeras\u001b[0m\u001b[0;34m.\u001b[0m\u001b[0mdatasets\u001b[0m \u001b[0;32mimport\u001b[0m \u001b[0mmnist\u001b[0m\u001b[0;34m\u001b[0m\u001b[0;34m\u001b[0m\u001b[0m\n\u001b[0m\u001b[1;32m      9\u001b[0m \u001b[0;34m\u001b[0m\u001b[0m\n\u001b[1;32m     10\u001b[0m \u001b[0;31m# PCA\u001b[0m\u001b[0;34m\u001b[0m\u001b[0;34m\u001b[0m\u001b[0m\n",
            "\u001b[0;31mModuleNotFoundError\u001b[0m: No module named 'tensorflow'",
            "",
            "\u001b[0;31m---------------------------------------------------------------------------\u001b[0;32m\nNOTE: If your import is failing due to a missing package, you can\nmanually install dependencies using either !pip or !apt.\n\nTo view examples of installing some common dependencies, click the\n\"Open Examples\" button below.\n\u001b[0;31m---------------------------------------------------------------------------\u001b[0m\n"
          ],
          "errorDetails": {
            "actions": [
              {
                "action": "open_url",
                "actionText": "Open Examples",
                "url": "/notebooks/snippets/importing_libraries.ipynb"
              }
            ]
          }
        }
      ],
      "source": [
        "# Colab-friendly imports\n",
        "import os, csv, shutil\n",
        "import numpy as np\n",
        "import matplotlib.pyplot as plt\n",
        "from datetime import datetime\n",
        "\n",
        "# For MNIST\n",
        "from tensorflow.keras.datasets import mnist\n",
        "\n",
        "# PCA\n",
        "from sklearn.decomposition import PCA\n"
      ]
    },
    {
      "cell_type": "markdown",
      "source": [
        "1) Load & Prepare MNIST (training set only)"
      ],
      "metadata": {
        "id": "Re7MrgxlvQKx"
      }
    },
    {
      "cell_type": "code",
      "source": [
        "# Load MNIST\n",
        "(x_train, y_train), _ = mnist.load_data()\n",
        "\n",
        "# Flatten 28x28 -> 784 and normalize to [0,1]\n",
        "x_train = x_train.reshape((x_train.shape[0], -1)).astype(\"float32\") / 255.0\n",
        "\n",
        "print(\"x_train shape:\", x_train.shape)  # (60000, 784)\n",
        "print(\"y_train shape:\", y_train.shape)  # (60000,)\n"
      ],
      "metadata": {
        "id": "_Ozx0DSTu-ab"
      },
      "execution_count": null,
      "outputs": []
    },
    {
      "cell_type": "markdown",
      "source": [
        "2) Fit GLOBAL PCA (top 30 components) for ALL digits (Part 1)"
      ],
      "metadata": {
        "id": "mN7pCo0NvTi6"
      }
    },
    {
      "cell_type": "code",
      "source": [
        "# Fit global PCA on the full training set\n",
        "pca30 = PCA(n_components=30, svd_solver=\"randomized\", random_state=0)\n",
        "pca30.fit(x_train)\n",
        "\n",
        "eigenvalues = pca30.explained_variance_\n",
        "components_30 = pca30.components_   # (30, 784)\n",
        "mean_vec = pca30.mean_              # (784,)\n",
        "\n",
        "print(\"Top-30 eigenvalues (first 5):\", eigenvalues[:5])\n",
        "print(\"components_30 shape:\", components_30.shape)\n"
      ],
      "metadata": {
        "colab": {
          "base_uri": "https://localhost:8080/",
          "height": 211
        },
        "id": "fstxAmVlvVlN",
        "outputId": "05dfe68c-8bb0-45c7-f908-28c8dd7e7ffe"
      },
      "execution_count": 5,
      "outputs": [
        {
          "output_type": "error",
          "ename": "NameError",
          "evalue": "name 'PCA' is not defined",
          "traceback": [
            "\u001b[0;31m---------------------------------------------------------------------------\u001b[0m",
            "\u001b[0;31mNameError\u001b[0m                                 Traceback (most recent call last)",
            "\u001b[0;32m/tmp/ipython-input-2064703418.py\u001b[0m in \u001b[0;36m<cell line: 0>\u001b[0;34m()\u001b[0m\n\u001b[1;32m      1\u001b[0m \u001b[0;31m# Fit global PCA on the full training set\u001b[0m\u001b[0;34m\u001b[0m\u001b[0;34m\u001b[0m\u001b[0m\n\u001b[0;32m----> 2\u001b[0;31m \u001b[0mpca30\u001b[0m \u001b[0;34m=\u001b[0m \u001b[0mPCA\u001b[0m\u001b[0;34m(\u001b[0m\u001b[0mn_components\u001b[0m\u001b[0;34m=\u001b[0m\u001b[0;36m30\u001b[0m\u001b[0;34m,\u001b[0m \u001b[0msvd_solver\u001b[0m\u001b[0;34m=\u001b[0m\u001b[0;34m\"randomized\"\u001b[0m\u001b[0;34m,\u001b[0m \u001b[0mrandom_state\u001b[0m\u001b[0;34m=\u001b[0m\u001b[0;36m0\u001b[0m\u001b[0;34m)\u001b[0m\u001b[0;34m\u001b[0m\u001b[0;34m\u001b[0m\u001b[0m\n\u001b[0m\u001b[1;32m      3\u001b[0m \u001b[0mpca30\u001b[0m\u001b[0;34m.\u001b[0m\u001b[0mfit\u001b[0m\u001b[0;34m(\u001b[0m\u001b[0mx_train\u001b[0m\u001b[0;34m)\u001b[0m\u001b[0;34m\u001b[0m\u001b[0;34m\u001b[0m\u001b[0m\n\u001b[1;32m      4\u001b[0m \u001b[0;34m\u001b[0m\u001b[0m\n\u001b[1;32m      5\u001b[0m \u001b[0meigenvalues\u001b[0m \u001b[0;34m=\u001b[0m \u001b[0mpca30\u001b[0m\u001b[0;34m.\u001b[0m\u001b[0mexplained_variance_\u001b[0m\u001b[0;34m\u001b[0m\u001b[0;34m\u001b[0m\u001b[0m\n",
            "\u001b[0;31mNameError\u001b[0m: name 'PCA' is not defined"
          ]
        }
      ]
    },
    {
      "cell_type": "markdown",
      "source": [
        "3) Create results folder (timestamped)"
      ],
      "metadata": {
        "id": "zWti2aBOvdXW"
      }
    },
    {
      "cell_type": "code",
      "source": [
        "# Timestamped root directory so reruns won't overwrite previous results\n",
        "timestamp = datetime.now().strftime(\"%Y%m%d_%H%M%S\")\n",
        "ROOT = f\"PCA_HW2_results_{timestamp}\"\n",
        "os.makedirs(ROOT, exist_ok=True)\n",
        "\n",
        "print(\"Results folder:\", ROOT)\n"
      ],
      "metadata": {
        "id": "BW2BZm-pvXQv"
      },
      "execution_count": null,
      "outputs": []
    },
    {
      "cell_type": "markdown",
      "source": [
        "4) Part 1 — Save Top-30 Eigenvalues Plot + Eigenvectors Grid"
      ],
      "metadata": {
        "id": "kzhmMYiBvil_"
      }
    },
    {
      "cell_type": "code",
      "source": [
        "# ---- Plot top 30 eigenvalues\n",
        "plt.figure(figsize=(8,4))\n",
        "plt.plot(np.arange(1, 31), eigenvalues, marker='o')\n",
        "plt.title(\"Top 30 PCA Eigenvalues (Global PCA on MNIST Train)\")\n",
        "plt.xlabel(\"Component Index (1..30)\")\n",
        "plt.ylabel(\"Eigenvalue\")\n",
        "plt.grid(True, linestyle=\"--\", alpha=0.4)\n",
        "eigs_path = os.path.join(ROOT, \"part1_top30_eigenvalues.png\")\n",
        "plt.savefig(eigs_path, dpi=150, bbox_inches=\"tight\")\n",
        "plt.show()\n",
        "plt.close()\n",
        "\n",
        "# ---- Display & save top 30 eigenvectors as a 3x10 grid (images 28x28)\n",
        "fig, axes = plt.subplots(3, 10, figsize=(15, 4.5))\n",
        "fig.suptitle(\"Top 30 PCA Eigenvectors (as images)\", y=1.02, fontsize=14)\n",
        "\n",
        "for i in range(30):\n",
        "    r, c = divmod(i, 10)\n",
        "    ax = axes[r, c]\n",
        "    ax.imshow(components_30[i].reshape(28,28), cmap='gray')\n",
        "    ax.set_title(f\"v{i+1}\")\n",
        "    ax.axis('off')\n",
        "\n",
        "grid_path = os.path.join(ROOT, \"part1_top30_eigenvectors_grid.png\")\n",
        "plt.tight_layout()\n",
        "plt.savefig(grid_path, dpi=200, bbox_inches=\"tight\")\n",
        "plt.show()\n",
        "plt.close()\n",
        "\n",
        "print(\"Saved Part 1 figures:\")\n",
        "print(\" •\", eigs_path)\n",
        "print(\" •\", grid_path)\n"
      ],
      "metadata": {
        "id": "qRCqHUz5vf0-"
      },
      "execution_count": null,
      "outputs": []
    },
    {
      "cell_type": "markdown",
      "source": [
        "5) Helper — Reconstruct using top-k global components + MSE"
      ],
      "metadata": {
        "id": "mynxVkQAvrv3"
      }
    },
    {
      "cell_type": "code",
      "source": [
        "def reconstruct_with_k(sample_flat_784, k, mean_vec, components_30):\n",
        "    \"\"\"\n",
        "    Reconstructs a single sample using the first k components from the *global* PCA.\n",
        "    Returns (reconstructed_image_28x28, mse_float)\n",
        "    \"\"\"\n",
        "    x_centered = sample_flat_784 - mean_vec         # (784,)\n",
        "    Vk = components_30[:k, :]                       # (k, 784)\n",
        "    coeffs = Vk @ x_centered                        # (k,)\n",
        "    recon = mean_vec + coeffs @ Vk                  # (784,)\n",
        "    mse = float(np.mean((sample_flat_784 - recon) ** 2))\n",
        "    return recon.reshape(28, 28), mse\n"
      ],
      "metadata": {
        "id": "nXTeLyr9vle0"
      },
      "execution_count": 6,
      "outputs": []
    },
    {
      "cell_type": "markdown",
      "source": [
        "6) Part 2 — Per-digit (0..9) reconstructions for a/b/c/d (k=2,5,20,30)"
      ],
      "metadata": {
        "id": "YXxUfEWyv1vv"
      }
    },
    {
      "cell_type": "markdown",
      "source": [
        "This cell:\n",
        "\n",
        "Picks one example per digit (the first occurrence).\n",
        "\n",
        "Saves per-k reconstructions (digitX_k2.png, etc.), the original, a 1×5 grid per digit, and logs MSEs to mse_summary.csv."
      ],
      "metadata": {
        "id": "KK0pQGDhv9H4"
      }
    },
    {
      "cell_type": "code",
      "source": [
        "Ks = [2, 5, 20, 30]\n",
        "mse_csv = os.path.join(ROOT, \"part2_mse_summary.csv\")\n",
        "\n",
        "# Write CSV header\n",
        "with open(mse_csv, \"w\", newline=\"\") as f:\n",
        "    writer = csv.writer(f)\n",
        "    writer.writerow([\"digit\", \"k\", \"MSE\"])\n",
        "\n",
        "# Process each digit 0..9\n",
        "per_digit_grid_paths = []   # store grid path for each digit for later mega grid\n",
        "orig_imgs = []              # store original 28x28 for mega grid\n",
        "recon_imgs_all = []         # list of dicts per digit, mapping k-> image\n",
        "\n",
        "for digit in range(10):\n",
        "    # Select first occurrence of this digit\n",
        "    idx = np.where(y_train == digit)[0][0]\n",
        "    sample = x_train[idx]                     # (784,)\n",
        "    original_img = sample.reshape(28, 28)\n",
        "\n",
        "    # Folder per digit\n",
        "    digit_dir = os.path.join(ROOT, f\"digit_{digit}\")\n",
        "    os.makedirs(digit_dir, exist_ok=True)\n",
        "\n",
        "    # Save original\n",
        "    plt.imshow(original_img, cmap=\"gray\")\n",
        "    plt.title(f\"Digit {digit} - Original\")\n",
        "    plt.axis(\"off\")\n",
        "    orig_path = os.path.join(digit_dir, f\"digit{digit}_original.png\")\n",
        "    plt.savefig(orig_path, dpi=150, bbox_inches=\"tight\")\n",
        "    plt.show()\n",
        "    plt.close()\n",
        "\n",
        "    # Reconstruct and save for each k\n",
        "    recon_dict = {}\n",
        "    mses = {}\n",
        "    for k in Ks:\n",
        "        recon_img, mse = reconstruct_with_k(sample, k, mean_vec, components_30)\n",
        "        recon_dict[k] = recon_img\n",
        "        mses[k] = mse\n",
        "\n",
        "        plt.imshow(recon_img, cmap=\"gray\")\n",
        "        plt.title(f\"Digit {digit} - k={k}  MSE={mse:.6f}\")\n",
        "        plt.axis(\"off\")\n",
        "        out_path = os.path.join(digit_dir, f\"digit{digit}_k{k}.png\")\n",
        "        plt.savefig(out_path, dpi=150, bbox_inches=\"tight\")\n",
        "        plt.show()\n",
        "        plt.close()\n",
        "\n",
        "        # Log MSE to CSV\n",
        "        with open(mse_csv, \"a\", newline=\"\") as f:\n",
        "            writer = csv.writer(f)\n",
        "            writer.writerow([digit, k, mse])\n",
        "\n",
        "    # Save 1x5 grid per digit: Original, k=2, k=5, k=20, k=30\n",
        "    fig, axes = plt.subplots(1, 5, figsize=(12, 3))\n",
        "    col_titles = [\"Original\", \"k=2\", \"k=5\", \"k=20\", \"k=30\"]\n",
        "    imgs = [original_img, recon_dict[2], recon_dict[5], recon_dict[20], recon_dict[30]]\n",
        "\n",
        "    for ax, img, title in zip(axes, imgs, col_titles):\n",
        "        ax.imshow(img, cmap=\"gray\")\n",
        "        if title == \"Original\":\n",
        "            ax.set_title(title)\n",
        "        else:\n",
        "            k_val = int(title.split('=')[1])\n",
        "            ax.set_title(f\"{title}\\nMSE={mses[k_val]:.6f}\")\n",
        "        ax.axis(\"off\")\n",
        "\n",
        "    grid_path = os.path.join(digit_dir, f\"digit{digit}_grid.png\")\n",
        "    plt.tight_layout()\n",
        "    plt.savefig(grid_path, dpi=200, bbox_inches=\"tight\")\n",
        "    plt.show()\n",
        "    plt.close()\n",
        "\n",
        "    per_digit_grid_paths.append(grid_path)\n",
        "    orig_imgs.append(original_img)\n",
        "    recon_imgs_all.append(recon_dict)\n",
        "\n",
        "print(\"Saved Part 2 MSE CSV:\", mse_csv)\n"
      ],
      "metadata": {
        "colab": {
          "base_uri": "https://localhost:8080/",
          "height": 211
        },
        "id": "OdByt4cFvzcK",
        "outputId": "70b224e1-0c4d-4b8d-b145-a2d64231ac9f"
      },
      "execution_count": 7,
      "outputs": [
        {
          "output_type": "error",
          "ename": "NameError",
          "evalue": "name 'ROOT' is not defined",
          "traceback": [
            "\u001b[0;31m---------------------------------------------------------------------------\u001b[0m",
            "\u001b[0;31mNameError\u001b[0m                                 Traceback (most recent call last)",
            "\u001b[0;32m/tmp/ipython-input-434727407.py\u001b[0m in \u001b[0;36m<cell line: 0>\u001b[0;34m()\u001b[0m\n\u001b[1;32m      1\u001b[0m \u001b[0mKs\u001b[0m \u001b[0;34m=\u001b[0m \u001b[0;34m[\u001b[0m\u001b[0;36m2\u001b[0m\u001b[0;34m,\u001b[0m \u001b[0;36m5\u001b[0m\u001b[0;34m,\u001b[0m \u001b[0;36m20\u001b[0m\u001b[0;34m,\u001b[0m \u001b[0;36m30\u001b[0m\u001b[0;34m]\u001b[0m\u001b[0;34m\u001b[0m\u001b[0;34m\u001b[0m\u001b[0m\n\u001b[0;32m----> 2\u001b[0;31m \u001b[0mmse_csv\u001b[0m \u001b[0;34m=\u001b[0m \u001b[0mos\u001b[0m\u001b[0;34m.\u001b[0m\u001b[0mpath\u001b[0m\u001b[0;34m.\u001b[0m\u001b[0mjoin\u001b[0m\u001b[0;34m(\u001b[0m\u001b[0mROOT\u001b[0m\u001b[0;34m,\u001b[0m \u001b[0;34m\"part2_mse_summary.csv\"\u001b[0m\u001b[0;34m)\u001b[0m\u001b[0;34m\u001b[0m\u001b[0;34m\u001b[0m\u001b[0m\n\u001b[0m\u001b[1;32m      3\u001b[0m \u001b[0;34m\u001b[0m\u001b[0m\n\u001b[1;32m      4\u001b[0m \u001b[0;31m# Write CSV header\u001b[0m\u001b[0;34m\u001b[0m\u001b[0;34m\u001b[0m\u001b[0m\n\u001b[1;32m      5\u001b[0m \u001b[0;32mwith\u001b[0m \u001b[0mopen\u001b[0m\u001b[0;34m(\u001b[0m\u001b[0mmse_csv\u001b[0m\u001b[0;34m,\u001b[0m \u001b[0;34m\"w\"\u001b[0m\u001b[0;34m,\u001b[0m \u001b[0mnewline\u001b[0m\u001b[0;34m=\u001b[0m\u001b[0;34m\"\"\u001b[0m\u001b[0;34m)\u001b[0m \u001b[0;32mas\u001b[0m \u001b[0mf\u001b[0m\u001b[0;34m:\u001b[0m\u001b[0;34m\u001b[0m\u001b[0;34m\u001b[0m\u001b[0m\n",
            "\u001b[0;31mNameError\u001b[0m: name 'ROOT' is not defined"
          ]
        }
      ]
    },
    {
      "cell_type": "markdown",
      "source": [
        "7) (Optional but neat for report) One “Mega Grid” (10 rows × 5 cols)\n",
        "\n",
        "Each row is a digit 0..9, columns: Original | k=2 | k=5 | k=20 | k=30 with MSE annotations."
      ],
      "metadata": {
        "id": "MY8Nkkr7wsjo"
      }
    },
    {
      "cell_type": "code",
      "source": [
        "# Build a 10x5 mega grid\n",
        "fig, axes = plt.subplots(10, 5, figsize=(12, 22))\n",
        "fig.suptitle(\"Reconstructions per Digit (Original, k=2, k=5, k=20, k=30)\", y=0.92, fontsize=16)\n",
        "\n",
        "for digit in range(10):\n",
        "    # Find sample again (same as before)\n",
        "    idx = np.where(y_train == digit)[0][0]\n",
        "    sample = x_train[idx]\n",
        "    original_img = orig_imgs[digit]\n",
        "    recon_dict = recon_imgs_all[digit]\n",
        "\n",
        "    # Recompute MSEs for titles (tiny overhead)\n",
        "    mses = {}\n",
        "    for k in [2,5,20,30]:\n",
        "        _, mse = reconstruct_with_k(sample, k, mean_vec, components_30)\n",
        "        mses[k] = mse\n",
        "\n",
        "    # Column images\n",
        "    row_imgs = [original_img, recon_dict[2], recon_dict[5], recon_dict[20], recon_dict[30]]\n",
        "    for col, img in enumerate(row_imgs):\n",
        "        ax = axes[digit, col]\n",
        "        ax.imshow(img, cmap=\"gray\")\n",
        "        ax.axis(\"off\")\n",
        "        if digit == 0:  # top row column headers\n",
        "            ax.set_title([\"Original\", \"k=2\", \"k=5\", \"k=20\", \"k=30\"][col])\n",
        "\n",
        "        # Add MSE under recon columns\n",
        "        if col > 0:\n",
        "            k_here = [None, 2, 5, 20, 30][col]\n",
        "            ax.set_xlabel(f\"MSE={mses[k_here]:.6f}\", fontsize=8, labelpad=4)\n",
        "\n",
        "        # Add row label on left side\n",
        "        if col == 0:\n",
        "            ax.text(-0.3, 0.5, f\"Digit {digit}\", transform=ax.transAxes,\n",
        "                    fontsize=10, va=\"center\", ha=\"right\", rotation=90)\n",
        "\n",
        "mega_path = os.path.join(ROOT, \"part2_mega_grid_all_digits.png\")\n",
        "plt.tight_layout(rect=[0, 0, 1, 0.97])\n",
        "plt.savefig(mega_path, dpi=200, bbox_inches=\"tight\")\n",
        "plt.show()\n",
        "plt.close()\n",
        "\n",
        "print(\"Saved mega grid:\", mega_path)\n"
      ],
      "metadata": {
        "id": "sISsRJhTv_yv"
      },
      "execution_count": null,
      "outputs": []
    },
    {
      "cell_type": "markdown",
      "source": [
        "8) (Optional) Zip & Download Everything"
      ],
      "metadata": {
        "id": "GV9emOhpw3k1"
      }
    },
    {
      "cell_type": "code",
      "source": [
        "# Zip the entire results folder for easy download\n",
        "zip_path = f\"{ROOT}.zip\"\n",
        "if os.path.exists(zip_path):\n",
        "    os.remove(zip_path)\n",
        "shutil.make_archive(ROOT, 'zip', ROOT)\n",
        "print(\"Zipped results at:\", zip_path)\n",
        "\n",
        "# If running on Colab, uncomment to auto-prompt download:\n",
        "# from google.colab import files\n",
        "# files.download(zip_path)\n"
      ],
      "metadata": {
        "id": "Xpue0qP2wvcY"
      },
      "execution_count": null,
      "outputs": []
    },
    {
      "cell_type": "code",
      "source": [],
      "metadata": {
        "id": "lHJLYZtTw59p"
      },
      "execution_count": null,
      "outputs": []
    }
  ]
}